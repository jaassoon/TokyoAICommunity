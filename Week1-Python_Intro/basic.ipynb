{
  "nbformat": 4,
  "nbformat_minor": 0,
  "metadata": {
    "colab": {
      "name": "basic.ipynb",
      "version": "0.3.2",
      "provenance": [],
      "include_colab_link": true
    },
    "kernelspec": {
      "name": "python3",
      "display_name": "Python 3"
    }
  },
  "cells": [
    {
      "cell_type": "markdown",
      "metadata": {
        "id": "view-in-github",
        "colab_type": "text"
      },
      "source": [
        "<a href=\"https://colab.research.google.com/github/jaassoon/TokyoAICommunity/blob/master/Week1-Python_Intro/basic.ipynb\" target=\"_parent\"><img src=\"https://colab.research.google.com/assets/colab-badge.svg\" alt=\"Open In Colab\"/></a>"
      ]
    },
    {
      "cell_type": "code",
      "metadata": {
        "id": "Z_yLXdxGgmno",
        "colab_type": "code",
        "colab": {}
      },
      "source": [
        "!git clone https://github.com/jaassoon/TokyoAICommunity.git"
      ],
      "execution_count": 0,
      "outputs": []
    },
    {
      "cell_type": "code",
      "metadata": {
        "id": "fqaFnf_ng--p",
        "colab_type": "code",
        "colab": {}
      },
      "source": [
        "%cd /content/TokyoAICommunity/Week1-Python_Intro/\n",
        "!git pull"
      ],
      "execution_count": 0,
      "outputs": []
    },
    {
      "cell_type": "code",
      "metadata": {
        "id": "b2BiBp6BgvGB",
        "colab_type": "code",
        "colab": {
          "base_uri": "https://localhost:8080/",
          "height": 119
        },
        "outputId": "52ef537d-c6af-4023-c7f5-582c4c9a0ad4"
      },
      "source": [
        "#!/usr/bin/env python3\n",
        "# -*- coding: utf-8 -*-\n",
        "\"\"\"\n",
        "Created on Thu Apr  4 16:41:09 2019\n",
        "\n",
        "@author: chinweihong\n",
        "\"\"\"\n",
        "\n",
        "address = [\"Meguro River\", \"18\", \"Tokyo\"]\n",
        "pins = {\"Mike\":1234, \"Joe\":1111, \"Jack\":2222}\n",
        "\n",
        "print(address[0], address[1])\n",
        "\n",
        "pin = int(input(\"Enter your pin: \"))\n",
        "\n",
        "def find_in_file(f):    \n",
        "    myfile = open(\"fruits.txt\")\n",
        "    fruits = myfile.read()\n",
        "    fruits = fruits.splitlines()\n",
        "    print(fruits)\n",
        "    print(f)\n",
        "    if f in fruits:\n",
        "        return \"That fruit is in the list.\"\n",
        "    else:\n",
        "        return \"No such fruit found!\"\n",
        "            \n",
        "if pin in pins.values():\n",
        "    fruit = input(\"Enter fruit: \")\n",
        "    print(find_in_file(fruit))\n",
        "else:\n",
        "    print(\"Incorrect pin!\") \n",
        "    print(\"This info can be accessed only by: \")\n",
        "    for key in pins.keys():\n",
        "        print(key)\n"
      ],
      "execution_count": 11,
      "outputs": [
        {
          "output_type": "stream",
          "text": [
            "Meguro River 18\n",
            "Enter your pin: 1234\n",
            "Enter fruit: apple\n",
            "['pear', 'apple', 'orange', 'mandarin', 'watermelon', 'pomegranate']\n",
            "apple\n",
            "That fruit is in the list.\n"
          ],
          "name": "stdout"
        }
      ]
    }
  ]
}