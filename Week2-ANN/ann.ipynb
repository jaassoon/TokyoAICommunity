{
  "nbformat": 4,
  "nbformat_minor": 0,
  "metadata": {
    "colab": {
      "name": "ann.ipynb",
      "version": "0.3.2",
      "provenance": [],
      "collapsed_sections": [],
      "toc_visible": true,
      "include_colab_link": true
    },
    "kernelspec": {
      "name": "python3",
      "display_name": "Python 3"
    },
    "accelerator": "GPU"
  },
  "cells": [
    {
      "cell_type": "markdown",
      "metadata": {
        "id": "view-in-github",
        "colab_type": "text"
      },
      "source": [
        "<a href=\"https://colab.research.google.com/github/jaassoon/TokyoAICommunity/blob/master/Week2-ANN/ann.ipynb\" target=\"_parent\"><img src=\"https://colab.research.google.com/assets/colab-badge.svg\" alt=\"Open In Colab\"/></a>"
      ]
    },
    {
      "metadata": {
        "id": "Srbve_TEi7k5",
        "colab_type": "code",
        "colab": {}
      },
      "cell_type": "code",
      "source": [
        "!git clone  https://github.com/jaassoon/TokyoAICommunity.git\n",
        "#!pip install tf-nightly-2.0-preview\n",
        "\n",
        "# Load the TensorBoard notebook extension\n",
        "#%load_ext tensorboard"
      ],
      "execution_count": 0,
      "outputs": []
    },
    {
      "metadata": {
        "id": "FH0mDLjYrpxb",
        "colab_type": "code",
        "colab": {}
      },
      "cell_type": "code",
      "source": [
        "!pip install -q runipy"
      ],
      "execution_count": 0,
      "outputs": []
    },
    {
      "metadata": {
        "id": "s2W7JQNdr3V-",
        "colab_type": "code",
        "colab": {
          "base_uri": "https://localhost:8080/",
          "height": 34
        },
        "outputId": "4579b888-b988-421b-c4d5-c4cb1ed96a68"
      },
      "cell_type": "code",
      "source": [
        "%cd /content/TokyoAICommunity/Week2-ANN/"
      ],
      "execution_count": 12,
      "outputs": [
        {
          "output_type": "stream",
          "text": [
            "/content\n"
          ],
          "name": "stdout"
        }
      ]
    },
    {
      "metadata": {
        "id": "YO4RBVUhxooZ",
        "colab_type": "code",
        "colab": {
          "base_uri": "https://localhost:8080/",
          "height": 34
        },
        "outputId": "62bb92aa-f188-4ae6-f1eb-26f6ee7849d9"
      },
      "cell_type": "code",
      "source": [
        "!pwd"
      ],
      "execution_count": 13,
      "outputs": [
        {
          "output_type": "stream",
          "text": [
            "/content/TokyoAICommunity/Week2-ANN\n"
          ],
          "name": "stdout"
        }
      ]
    },
    {
      "metadata": {
        "id": "9zaKRVWzsLnE",
        "colab_type": "code",
        "colab": {
          "base_uri": "https://localhost:8080/",
          "height": 3947
        },
        "outputId": "61450c30-7ff0-4b4c-e566-b7d9895c5c5a"
      },
      "cell_type": "code",
      "source": [
        "!python ann.py"
      ],
      "execution_count": 15,
      "outputs": [
        {
          "output_type": "stream",
          "text": [
            "/usr/local/lib/python3.6/dist-packages/sklearn/preprocessing/_encoders.py:371: FutureWarning: The handling of integer data will change in version 0.22. Currently, the categories are determined based on the range [0, max(values)], while in the future they will be determined based on the unique values.\n",
            "If you want the future behaviour and silence this warning, you can specify \"categories='auto'\".\n",
            "In case you used a LabelEncoder before this OneHotEncoder to convert the categories to integers, then you can now use the OneHotEncoder directly.\n",
            "  warnings.warn(msg, FutureWarning)\n",
            "/usr/local/lib/python3.6/dist-packages/sklearn/preprocessing/_encoders.py:392: DeprecationWarning: The 'categorical_features' keyword is deprecated in version 0.20 and will be removed in 0.22. You can use the ColumnTransformer instead.\n",
            "  \"use the ColumnTransformer instead.\", DeprecationWarning)\n",
            "Using TensorFlow backend.\n",
            "WARNING:tensorflow:From /usr/local/lib/python3.6/dist-packages/tensorflow/python/framework/op_def_library.py:263: colocate_with (from tensorflow.python.framework.ops) is deprecated and will be removed in a future version.\n",
            "Instructions for updating:\n",
            "Colocations handled automatically by placer.\n",
            "WARNING:tensorflow:From /usr/local/lib/python3.6/dist-packages/tensorflow/python/ops/math_ops.py:3066: to_int32 (from tensorflow.python.ops.math_ops) is deprecated and will be removed in a future version.\n",
            "Instructions for updating:\n",
            "Use tf.cast instead.\n",
            "Epoch 1/100\n",
            "2019-05-02 09:03:25.957540: I tensorflow/core/platform/profile_utils/cpu_utils.cc:94] CPU Frequency: 2300000000 Hz\n",
            "2019-05-02 09:03:25.957794: I tensorflow/compiler/xla/service/service.cc:150] XLA service 0x32891e0 executing computations on platform Host. Devices:\n",
            "2019-05-02 09:03:25.957826: I tensorflow/compiler/xla/service/service.cc:158]   StreamExecutor device (0): <undefined>, <undefined>\n",
            "2019-05-02 09:03:26.102085: I tensorflow/stream_executor/cuda/cuda_gpu_executor.cc:998] successful NUMA node read from SysFS had negative value (-1), but there must be at least one NUMA node, so returning NUMA node zero\n",
            "2019-05-02 09:03:26.102657: I tensorflow/compiler/xla/service/service.cc:150] XLA service 0x3288dc0 executing computations on platform CUDA. Devices:\n",
            "2019-05-02 09:03:26.102708: I tensorflow/compiler/xla/service/service.cc:158]   StreamExecutor device (0): Tesla T4, Compute Capability 7.5\n",
            "2019-05-02 09:03:26.103105: I tensorflow/core/common_runtime/gpu/gpu_device.cc:1433] Found device 0 with properties: \n",
            "name: Tesla T4 major: 7 minor: 5 memoryClockRate(GHz): 1.59\n",
            "pciBusID: 0000:00:04.0\n",
            "totalMemory: 14.73GiB freeMemory: 14.34GiB\n",
            "2019-05-02 09:03:26.103128: I tensorflow/core/common_runtime/gpu/gpu_device.cc:1512] Adding visible gpu devices: 0\n",
            "2019-05-02 09:03:26.608599: I tensorflow/core/common_runtime/gpu/gpu_device.cc:984] Device interconnect StreamExecutor with strength 1 edge matrix:\n",
            "2019-05-02 09:03:26.608676: I tensorflow/core/common_runtime/gpu/gpu_device.cc:990]      0 \n",
            "2019-05-02 09:03:26.608690: I tensorflow/core/common_runtime/gpu/gpu_device.cc:1003] 0:   N \n",
            "2019-05-02 09:03:26.609055: W tensorflow/core/common_runtime/gpu/gpu_bfc_allocator.cc:42] Overriding allow_growth setting because the TF_FORCE_GPU_ALLOW_GROWTH environment variable is set. Original config value was 0.\n",
            "2019-05-02 09:03:26.609122: I tensorflow/core/common_runtime/gpu/gpu_device.cc:1115] Created TensorFlow device (/job:localhost/replica:0/task:0/device:GPU:0 with 13859 MB memory) -> physical GPU (device: 0, name: Tesla T4, pci bus id: 0000:00:04.0, compute capability: 7.5)\n",
            "2019-05-02 09:03:26.899302: I tensorflow/stream_executor/dso_loader.cc:152] successfully opened CUDA library libcublas.so.10.0 locally\n",
            "8000/8000 [==============================] - 4s 462us/step - loss: 0.4868 - acc: 0.7960\n",
            "Epoch 2/100\n",
            "8000/8000 [==============================] - 2s 296us/step - loss: 0.4281 - acc: 0.7960\n",
            "Epoch 3/100\n",
            "8000/8000 [==============================] - 2s 299us/step - loss: 0.4227 - acc: 0.7960\n",
            "Epoch 4/100\n",
            "8000/8000 [==============================] - 3s 353us/step - loss: 0.4191 - acc: 0.8166\n",
            "Epoch 5/100\n",
            "8000/8000 [==============================] - 3s 348us/step - loss: 0.4170 - acc: 0.8260\n",
            "Epoch 6/100\n",
            "8000/8000 [==============================] - 3s 353us/step - loss: 0.4148 - acc: 0.8284\n",
            "Epoch 7/100\n",
            "8000/8000 [==============================] - 3s 362us/step - loss: 0.4131 - acc: 0.8305\n",
            "Epoch 8/100\n",
            "8000/8000 [==============================] - 3s 366us/step - loss: 0.4123 - acc: 0.8315\n",
            "Epoch 9/100\n",
            "8000/8000 [==============================] - 3s 362us/step - loss: 0.4112 - acc: 0.8316\n",
            "Epoch 10/100\n",
            "8000/8000 [==============================] - 2s 301us/step - loss: 0.4105 - acc: 0.8330\n",
            "Epoch 11/100\n",
            "8000/8000 [==============================] - 2s 295us/step - loss: 0.4092 - acc: 0.8337\n",
            "Epoch 12/100\n",
            "8000/8000 [==============================] - 2s 296us/step - loss: 0.4085 - acc: 0.8345\n",
            "Epoch 13/100\n",
            "8000/8000 [==============================] - 2s 295us/step - loss: 0.4074 - acc: 0.8335\n",
            "Epoch 14/100\n",
            "8000/8000 [==============================] - 2s 296us/step - loss: 0.4066 - acc: 0.8341\n",
            "Epoch 15/100\n",
            "8000/8000 [==============================] - 2s 289us/step - loss: 0.4058 - acc: 0.8330\n",
            "Epoch 16/100\n",
            "8000/8000 [==============================] - 2s 288us/step - loss: 0.4053 - acc: 0.8331\n",
            "Epoch 17/100\n",
            "8000/8000 [==============================] - 2s 287us/step - loss: 0.4046 - acc: 0.8350\n",
            "Epoch 18/100\n",
            "8000/8000 [==============================] - 2s 286us/step - loss: 0.4041 - acc: 0.8342\n",
            "Epoch 19/100\n",
            "8000/8000 [==============================] - 2s 286us/step - loss: 0.4027 - acc: 0.8354\n",
            "Epoch 20/100\n",
            "8000/8000 [==============================] - 2s 284us/step - loss: 0.4026 - acc: 0.8354\n",
            "Epoch 21/100\n",
            "8000/8000 [==============================] - 2s 290us/step - loss: 0.4014 - acc: 0.8340\n",
            "Epoch 22/100\n",
            "8000/8000 [==============================] - 2s 284us/step - loss: 0.4006 - acc: 0.8342\n",
            "Epoch 23/100\n",
            "8000/8000 [==============================] - 2s 287us/step - loss: 0.3995 - acc: 0.8350\n",
            "Epoch 24/100\n",
            "8000/8000 [==============================] - 2s 296us/step - loss: 0.3991 - acc: 0.8357\n",
            "Epoch 25/100\n",
            "8000/8000 [==============================] - 2s 298us/step - loss: 0.3986 - acc: 0.8359\n",
            "Epoch 26/100\n",
            "8000/8000 [==============================] - 2s 298us/step - loss: 0.3979 - acc: 0.8347\n",
            "Epoch 27/100\n",
            "8000/8000 [==============================] - 2s 297us/step - loss: 0.3976 - acc: 0.8349\n",
            "Epoch 28/100\n",
            "8000/8000 [==============================] - 2s 298us/step - loss: 0.3971 - acc: 0.8349\n",
            "Epoch 29/100\n",
            "8000/8000 [==============================] - 2s 297us/step - loss: 0.3965 - acc: 0.8341\n",
            "Epoch 30/100\n",
            "8000/8000 [==============================] - 2s 298us/step - loss: 0.3963 - acc: 0.8344\n",
            "Epoch 31/100\n",
            "8000/8000 [==============================] - 2s 297us/step - loss: 0.3964 - acc: 0.8360\n",
            "Epoch 32/100\n",
            "8000/8000 [==============================] - 2s 303us/step - loss: 0.3955 - acc: 0.8366\n",
            "Epoch 33/100\n",
            "8000/8000 [==============================] - 2s 295us/step - loss: 0.3956 - acc: 0.8367\n",
            "Epoch 34/100\n",
            "8000/8000 [==============================] - 2s 300us/step - loss: 0.3961 - acc: 0.8379\n",
            "Epoch 35/100\n",
            "8000/8000 [==============================] - 2s 298us/step - loss: 0.3954 - acc: 0.8355\n",
            "Epoch 36/100\n",
            "8000/8000 [==============================] - 2s 294us/step - loss: 0.3958 - acc: 0.8361\n",
            "Epoch 37/100\n",
            "8000/8000 [==============================] - 3s 344us/step - loss: 0.3953 - acc: 0.8370\n",
            "Epoch 38/100\n",
            "8000/8000 [==============================] - 3s 338us/step - loss: 0.3952 - acc: 0.8361\n",
            "Epoch 39/100\n",
            "8000/8000 [==============================] - 3s 338us/step - loss: 0.3948 - acc: 0.8360\n",
            "Epoch 40/100\n",
            "8000/8000 [==============================] - 3s 324us/step - loss: 0.3947 - acc: 0.8364\n",
            "Epoch 41/100\n",
            "8000/8000 [==============================] - 2s 288us/step - loss: 0.3946 - acc: 0.8372\n",
            "Epoch 42/100\n",
            "8000/8000 [==============================] - 2s 289us/step - loss: 0.3954 - acc: 0.8370\n",
            "Epoch 43/100\n",
            "8000/8000 [==============================] - 2s 284us/step - loss: 0.3950 - acc: 0.8367\n",
            "Epoch 44/100\n",
            "8000/8000 [==============================] - 2s 286us/step - loss: 0.3949 - acc: 0.8351\n",
            "Epoch 45/100\n",
            "8000/8000 [==============================] - 2s 287us/step - loss: 0.3941 - acc: 0.8356\n",
            "Epoch 46/100\n",
            "8000/8000 [==============================] - 2s 285us/step - loss: 0.3951 - acc: 0.8372\n",
            "Epoch 47/100\n",
            "8000/8000 [==============================] - 2s 286us/step - loss: 0.3945 - acc: 0.8379\n",
            "Epoch 48/100\n",
            "8000/8000 [==============================] - 3s 315us/step - loss: 0.3946 - acc: 0.8374\n",
            "Epoch 49/100\n",
            "8000/8000 [==============================] - 3s 315us/step - loss: 0.3947 - acc: 0.8372\n",
            "Epoch 50/100\n",
            "8000/8000 [==============================] - 2s 294us/step - loss: 0.3947 - acc: 0.8369\n",
            "Epoch 51/100\n",
            "8000/8000 [==============================] - 2s 301us/step - loss: 0.3941 - acc: 0.8372\n",
            "Epoch 52/100\n",
            "8000/8000 [==============================] - 2s 299us/step - loss: 0.3941 - acc: 0.8369\n",
            "Epoch 53/100\n",
            "8000/8000 [==============================] - 2s 298us/step - loss: 0.3939 - acc: 0.8394\n",
            "Epoch 54/100\n",
            "8000/8000 [==============================] - 2s 298us/step - loss: 0.3951 - acc: 0.8365\n",
            "Epoch 55/100\n",
            "8000/8000 [==============================] - 2s 297us/step - loss: 0.3939 - acc: 0.8371\n",
            "Epoch 56/100\n",
            "8000/8000 [==============================] - 2s 297us/step - loss: 0.3947 - acc: 0.8370\n",
            "Epoch 57/100\n",
            "8000/8000 [==============================] - 2s 295us/step - loss: 0.3936 - acc: 0.8362\n",
            "Epoch 58/100\n",
            "8000/8000 [==============================] - 2s 296us/step - loss: 0.3938 - acc: 0.8369\n",
            "Epoch 59/100\n",
            "8000/8000 [==============================] - 2s 294us/step - loss: 0.3934 - acc: 0.8370\n",
            "Epoch 60/100\n",
            "8000/8000 [==============================] - 2s 296us/step - loss: 0.3936 - acc: 0.8372\n",
            "Epoch 61/100\n",
            "8000/8000 [==============================] - 2s 301us/step - loss: 0.3936 - acc: 0.8366\n",
            "Epoch 62/100\n",
            "8000/8000 [==============================] - 3s 318us/step - loss: 0.3939 - acc: 0.8370\n",
            "Epoch 63/100\n",
            "8000/8000 [==============================] - 3s 336us/step - loss: 0.3937 - acc: 0.8362\n",
            "Epoch 64/100\n",
            "8000/8000 [==============================] - 2s 288us/step - loss: 0.3935 - acc: 0.8385\n",
            "Epoch 65/100\n",
            "8000/8000 [==============================] - 2s 288us/step - loss: 0.3925 - acc: 0.8379\n",
            "Epoch 66/100\n",
            "8000/8000 [==============================] - 2s 286us/step - loss: 0.3925 - acc: 0.8364\n",
            "Epoch 67/100\n",
            "8000/8000 [==============================] - 2s 288us/step - loss: 0.3929 - acc: 0.8362\n",
            "Epoch 68/100\n",
            "8000/8000 [==============================] - 2s 284us/step - loss: 0.3928 - acc: 0.8375\n",
            "Epoch 69/100\n",
            "8000/8000 [==============================] - 2s 288us/step - loss: 0.3920 - acc: 0.8372\n",
            "Epoch 70/100\n",
            "8000/8000 [==============================] - 3s 314us/step - loss: 0.3912 - acc: 0.8390\n",
            "Epoch 71/100\n",
            "8000/8000 [==============================] - 3s 335us/step - loss: 0.3896 - acc: 0.8399\n",
            "Epoch 72/100\n",
            "8000/8000 [==============================] - 3s 346us/step - loss: 0.3844 - acc: 0.8424\n",
            "Epoch 73/100\n",
            "8000/8000 [==============================] - 3s 347us/step - loss: 0.3736 - acc: 0.8457\n",
            "Epoch 74/100\n",
            "8000/8000 [==============================] - 2s 308us/step - loss: 0.3613 - acc: 0.8521\n",
            "Epoch 75/100\n",
            "8000/8000 [==============================] - 2s 297us/step - loss: 0.3524 - acc: 0.8576\n",
            "Epoch 76/100\n",
            "8000/8000 [==============================] - 2s 298us/step - loss: 0.3475 - acc: 0.8584\n",
            "Epoch 77/100\n",
            "8000/8000 [==============================] - 2s 305us/step - loss: 0.3451 - acc: 0.8600\n",
            "Epoch 78/100\n",
            "8000/8000 [==============================] - 2s 299us/step - loss: 0.3441 - acc: 0.8610\n",
            "Epoch 79/100\n",
            "8000/8000 [==============================] - 2s 296us/step - loss: 0.3436 - acc: 0.8605\n",
            "Epoch 80/100\n",
            "8000/8000 [==============================] - 2s 296us/step - loss: 0.3428 - acc: 0.8612\n",
            "Epoch 81/100\n",
            "8000/8000 [==============================] - 2s 300us/step - loss: 0.3427 - acc: 0.8596\n",
            "Epoch 82/100\n",
            "8000/8000 [==============================] - 2s 300us/step - loss: 0.3420 - acc: 0.8589\n",
            "Epoch 83/100\n",
            "8000/8000 [==============================] - 2s 297us/step - loss: 0.3420 - acc: 0.8610\n",
            "Epoch 84/100\n",
            "8000/8000 [==============================] - 2s 295us/step - loss: 0.3415 - acc: 0.8616\n",
            "Epoch 85/100\n",
            "8000/8000 [==============================] - 2s 297us/step - loss: 0.3419 - acc: 0.8616\n",
            "Epoch 86/100\n",
            "8000/8000 [==============================] - 2s 298us/step - loss: 0.3406 - acc: 0.8607\n",
            "Epoch 87/100\n",
            "8000/8000 [==============================] - 2s 297us/step - loss: 0.3415 - acc: 0.8610\n",
            "Epoch 88/100\n",
            "8000/8000 [==============================] - 2s 290us/step - loss: 0.3405 - acc: 0.8627\n",
            "Epoch 89/100\n",
            "8000/8000 [==============================] - 2s 286us/step - loss: 0.3411 - acc: 0.8621\n",
            "Epoch 90/100\n",
            "8000/8000 [==============================] - 2s 290us/step - loss: 0.3409 - acc: 0.8626\n",
            "Epoch 91/100\n",
            "8000/8000 [==============================] - 2s 286us/step - loss: 0.3406 - acc: 0.8624\n",
            "Epoch 92/100\n",
            "8000/8000 [==============================] - 2s 287us/step - loss: 0.3407 - acc: 0.8620\n",
            "Epoch 93/100\n",
            "8000/8000 [==============================] - 2s 286us/step - loss: 0.3403 - acc: 0.8617\n",
            "Epoch 94/100\n",
            "8000/8000 [==============================] - 2s 289us/step - loss: 0.3409 - acc: 0.8607\n",
            "Epoch 95/100\n",
            "8000/8000 [==============================] - 2s 290us/step - loss: 0.3404 - acc: 0.8609\n",
            "Epoch 96/100\n",
            "8000/8000 [==============================] - 2s 287us/step - loss: 0.3405 - acc: 0.8620\n",
            "Epoch 97/100\n",
            "8000/8000 [==============================] - 2s 291us/step - loss: 0.3403 - acc: 0.8622\n",
            "Epoch 98/100\n",
            "8000/8000 [==============================] - 2s 298us/step - loss: 0.3405 - acc: 0.8636\n",
            "Epoch 99/100\n",
            "8000/8000 [==============================] - 2s 298us/step - loss: 0.3400 - acc: 0.8624\n",
            "Epoch 100/100\n",
            "8000/8000 [==============================] - 2s 296us/step - loss: 0.3403 - acc: 0.8626\n"
          ],
          "name": "stdout"
        }
      ]
    },
    {
      "metadata": {
        "id": "JD9S-Hbwm8XV",
        "colab_type": "code",
        "colab": {
          "base_uri": "https://localhost:8080/",
          "height": 479
        },
        "outputId": "f75d335c-70f3-4e43-94ac-70acabb6bcf8"
      },
      "cell_type": "code",
      "source": [
        "# Artificial Neural Network\n",
        "\n",
        "# Installing Theano\n",
        "# pip install --upgrade --no-deps git+git://github.com/Theano/Theano.git\n",
        "\n",
        "# Installing Tensorflow\n",
        "# pip install tensorflow\n",
        "\n",
        "# Installing Keras\n",
        "# pip install --upgrade keras\n",
        "\n",
        "# Part 1 - Data Preprocessing\n",
        "\n",
        "# Importing the libraries\n",
        "import numpy as np\n",
        "import matplotlib.pyplot as plt\n",
        "import pandas as pd\n",
        "import os\n",
        "\n",
        "os.chdir('/content/TokyoAICommunity/Week2-ANN')\n",
        "# Importing the dataset\n",
        "dataset = pd.read_csv('Churn_Modelling.csv')\n",
        "X = dataset.iloc[:, 3:13].values\n",
        "y = dataset.iloc[:, 13].values\n",
        "\n",
        "# Encoding categorical data\n",
        "from sklearn.preprocessing import LabelEncoder, OneHotEncoder\n",
        "labelencoder_X_1 = LabelEncoder()\n",
        "X[:, 1] = labelencoder_X_1.fit_transform(X[:, 1])\n",
        "labelencoder_X_2 = LabelEncoder()\n",
        "X[:, 2] = labelencoder_X_2.fit_transform(X[:, 2])\n",
        "onehotencoder = OneHotEncoder(categorical_features = [1])\n",
        "X = onehotencoder.fit_transform(X).toarray()\n",
        "X = X[:, 1:]\n",
        "\n",
        "# Splitting the dataset into the Training set and Test set\n",
        "from sklearn.model_selection import train_test_split\n",
        "X_train, X_test, y_train, y_test = train_test_split(X, y, test_size = 0.2, random_state = 0)\n",
        "\n",
        "# Feature Scaling\n",
        "from sklearn.preprocessing import StandardScaler\n",
        "sc = StandardScaler()\n",
        "X_train = sc.fit_transform(X_train)\n",
        "X_test = sc.transform(X_test)\n",
        "\n",
        "# Part 2 - Now let's make the ANN!\n",
        "\n",
        "# Importing the Keras libraries and packages\n",
        "import keras\n",
        "from keras.models import Sequential\n",
        "from keras.layers import Dense\n",
        "\n",
        "# Initialising the ANN\n",
        "classifier = Sequential()\n",
        "\n",
        "# Adding the input layer and the first hidden layer\n",
        "classifier.add(Dense(units = 6, kernel_initializer = 'uniform', activation = 'relu', input_dim = 11))\n",
        "\n",
        "# Adding the second hidden layer\n",
        "classifier.add(Dense(units = 6, kernel_initializer = 'uniform', activation = 'relu'))\n",
        "\n",
        "# Adding the output layer\n",
        "classifier.add(Dense(units = 1, kernel_initializer = 'uniform', activation = 'sigmoid'))\n",
        "\n",
        "# Compiling the ANN\n",
        "classifier.compile(optimizer = 'adam', loss = 'binary_crossentropy', metrics = ['accuracy'])\n",
        "\n",
        "# Fitting the ANN to the Training set\n",
        "classifier.fit(X_train, y_train, batch_size = 10, epochs = 10)\n",
        "\n",
        "# Part 3 - Making predictions and evaluating the model\n",
        "\n",
        "# Predicting the Test set results\n",
        "y_pred = classifier.predict(X_test)\n",
        "y_pred = (y_pred > 0.5)\n",
        "\n",
        "# Making the Confusion Matrix\n",
        "from sklearn.metrics import confusion_matrix\n",
        "cm = confusion_matrix(y_test, y_pred)"
      ],
      "execution_count": 14,
      "outputs": [
        {
          "output_type": "stream",
          "text": [
            "/usr/local/lib/python3.6/dist-packages/sklearn/preprocessing/_encoders.py:371: FutureWarning: The handling of integer data will change in version 0.22. Currently, the categories are determined based on the range [0, max(values)], while in the future they will be determined based on the unique values.\n",
            "If you want the future behaviour and silence this warning, you can specify \"categories='auto'\".\n",
            "In case you used a LabelEncoder before this OneHotEncoder to convert the categories to integers, then you can now use the OneHotEncoder directly.\n",
            "  warnings.warn(msg, FutureWarning)\n",
            "/usr/local/lib/python3.6/dist-packages/sklearn/preprocessing/_encoders.py:392: DeprecationWarning: The 'categorical_features' keyword is deprecated in version 0.20 and will be removed in 0.22. You can use the ColumnTransformer instead.\n",
            "  \"use the ColumnTransformer instead.\", DeprecationWarning)\n"
          ],
          "name": "stderr"
        },
        {
          "output_type": "stream",
          "text": [
            "Epoch 1/10\n",
            "8000/8000 [==============================] - 3s 352us/step - loss: 0.4812 - acc: 0.7954\n",
            "Epoch 2/10\n",
            "8000/8000 [==============================] - 2s 312us/step - loss: 0.4263 - acc: 0.7960\n",
            "Epoch 3/10\n",
            "8000/8000 [==============================] - 3s 313us/step - loss: 0.4201 - acc: 0.8101\n",
            "Epoch 4/10\n",
            "8000/8000 [==============================] - 3s 325us/step - loss: 0.4173 - acc: 0.8261\n",
            "Epoch 5/10\n",
            "8000/8000 [==============================] - 3s 365us/step - loss: 0.4150 - acc: 0.8295\n",
            "Epoch 6/10\n",
            "8000/8000 [==============================] - 3s 367us/step - loss: 0.4132 - acc: 0.8306\n",
            "Epoch 7/10\n",
            "8000/8000 [==============================] - 3s 370us/step - loss: 0.4121 - acc: 0.8319\n",
            "Epoch 8/10\n",
            "8000/8000 [==============================] - 3s 332us/step - loss: 0.4108 - acc: 0.8320\n",
            "Epoch 9/10\n",
            "8000/8000 [==============================] - 3s 325us/step - loss: 0.4099 - acc: 0.8321\n",
            "Epoch 10/10\n",
            "8000/8000 [==============================] - 3s 329us/step - loss: 0.4086 - acc: 0.8349\n"
          ],
          "name": "stdout"
        }
      ]
    },
    {
      "metadata": {
        "id": "DXHWhfgO9U4w",
        "colab_type": "code",
        "outputId": "ea02026c-0c97-4bc8-cd87-a9cf6273e081",
        "colab": {
          "base_uri": "https://localhost:8080/",
          "height": 34
        }
      },
      "cell_type": "code",
      "source": [
        "%tensorboard --logdir logs/fit\n"
      ],
      "execution_count": 0,
      "outputs": [
        {
          "output_type": "stream",
          "text": [
            "UsageError: Line magic function `%tensorboard` not found.\n"
          ],
          "name": "stderr"
        }
      ]
    },
    {
      "metadata": {
        "id": "bzve1fC1yknf",
        "colab_type": "code",
        "outputId": "db676890-b2ab-457e-c3e5-de0d5c0f5777",
        "colab": {
          "base_uri": "https://localhost:8080/",
          "height": 204
        }
      },
      "cell_type": "code",
      "source": [
        "%cd TokyoAICommunity/Week1-Python_Intro\n",
        "!python basic.py"
      ],
      "execution_count": 0,
      "outputs": [
        {
          "output_type": "stream",
          "text": [
            "[Errno 2] No such file or directory: 'TokyoAICommunity/Week1-Python_Intro'\n",
            "/content/TokyoAICommunity/Week1-Python_Intro\n",
            "Meguro River 18\n",
            "Enter your pin: 1234\n",
            "Enter fruit: apple\n",
            "Traceback (most recent call last):\n",
            "  File \"basic.py\", line 27, in <module>\n",
            "    print(find_in_file(fruit))\n",
            "  File \"basic.py\", line 17, in find_in_file\n",
            "    myfile = open(\"sample.txt\")\n",
            "FileNotFoundError: [Errno 2] No such file or directory: 'sample.txt'\n"
          ],
          "name": "stdout"
        }
      ]
    }
  ]
}